{
 "cells": [
  {
   "cell_type": "markdown",
   "metadata": {},
   "source": [
    "##### Copyright 2021 Google LLC."
   ]
  },
  {
   "cell_type": "markdown",
   "metadata": {},
   "source": [
    "Licensed under the Apache License, Version 2.0 (the \"License\");\n",
    "you may not use this file except in compliance with the License.\n",
    "You may obtain a copy of the License at\n",
    "\n",
    "    http://www.apache.org/licenses/LICENSE-2.0\n",
    "\n",
    "Unless required by applicable law or agreed to in writing, software\n",
    "distributed under the License is distributed on an \"AS IS\" BASIS,\n",
    "WITHOUT WARRANTIES OR CONDITIONS OF ANY KIND, either express or implied.\n",
    "See the License for the specific language governing permissions and\n",
    "limitations under the License.\n"
   ]
  },
  {
   "cell_type": "markdown",
   "metadata": {},
   "source": [
    "# magic_sequence_sat"
   ]
  },
  {
   "cell_type": "markdown",
   "metadata": {},
   "source": [
    "<table align=\"left\">\n",
    "<td>\n",
    "<a href=\"https://colab.research.google.com/github/google/or-tools/blob/master/examples/notebook/contrib/magic_sequence_sat.ipynb\"><img src=\"https://raw.githubusercontent.com/google/or-tools/master/tools/colab_32px.png\"/>Run in Google Colab</a>\n",
    "</td>\n",
    "<td>\n",
    "<a href=\"https://github.com/google/or-tools/blob/master/examples/contrib/magic_sequence_sat.py\"><img src=\"https://raw.githubusercontent.com/google/or-tools/master/tools/github_32px.png\"/>View source on GitHub</a>\n",
    "</td>\n",
    "</table>"
   ]
  },
  {
   "cell_type": "markdown",
   "metadata": {},
   "source": [
    "First, you must install [ortools](https://pypi.org/project/ortools/) package in this colab."
   ]
  },
  {
   "cell_type": "code",
   "execution_count": null,
   "metadata": {},
   "outputs": [],
   "source": [
    "!pip install ortools"
   ]
  },
  {
   "cell_type": "code",
   "execution_count": null,
   "metadata": {},
   "outputs": [],
   "source": [
    "# Copyright 2018 Gergo Rozner\n",
    "# Licensed under the Apache License, Version 2.0 (the \"License\");\n",
    "# you may not use this file except in compliance with the License.\n",
    "# You may obtain a copy of the License at\n",
    "#\n",
    "#     http:#www.apache.org/licenses/LICENSE-2.0\n",
    "#\n",
    "# Unless required by applicable law or agreed to in writing, software\n",
    "# distributed under the License is distributed on an \"AS IS\" BASIS,\n",
    "# WITHOUT WARRANTIES OR CONDITIONS OF ANY KIND, either express or implied.\n",
    "# See the License for the specific language governing permissions and\n",
    "# limitations under the License.\n",
    "\"\"\"Solve the magic sequence problem with the CP-SAT solver.\"\"\"\n",
    "\n",
    "\n",
    "from ortools.sat.python import cp_model\n",
    "\n",
    "\n",
    "\"\"\"Magic sequence problem.\"\"\"\n",
    "n = 100\n",
    "values = range(n)\n",
    "\n",
    "model = cp_model.CpModel()\n",
    "\n",
    "x = [model.NewIntVar(0, n, 'x%i' % i) for i in values]\n",
    "\n",
    "for k in values:\n",
    "  tmp_array = []\n",
    "  for i in values:\n",
    "    tmp_var = model.NewBoolVar('')\n",
    "    model.Add(x[i] == k).OnlyEnforceIf(tmp_var)\n",
    "    model.Add(x[i] != k).OnlyEnforceIf(tmp_var.Not())\n",
    "    tmp_array.append(tmp_var)\n",
    "  model.Add(sum(tmp_array) == x[k])\n",
    "\n",
    "# Redundant constraint.\n",
    "model.Add(sum(x) == n)\n",
    "\n",
    "solver = cp_model.CpSolver()\n",
    "# No solution printer, this problem has only 1 solution.\n",
    "solver.parameters.log_search_progress = True\n",
    "solver.Solve(model)\n",
    "print(solver.ResponseStats())\n",
    "for k in values:\n",
    "  print('x[%i] = %i ' % (k, solver.Value(x[k])), end='')\n",
    "print()\n",
    "\n"
   ]
  }
 ],
 "metadata": {},
 "nbformat": 4,
 "nbformat_minor": 4
}
