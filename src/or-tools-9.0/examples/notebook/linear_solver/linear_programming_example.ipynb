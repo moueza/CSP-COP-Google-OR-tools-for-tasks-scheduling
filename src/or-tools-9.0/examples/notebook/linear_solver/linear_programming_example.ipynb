{
 "cells": [
  {
   "cell_type": "markdown",
   "metadata": {},
   "source": [
    "##### Copyright 2021 Google LLC."
   ]
  },
  {
   "cell_type": "markdown",
   "metadata": {},
   "source": [
    "Licensed under the Apache License, Version 2.0 (the \"License\");\n",
    "you may not use this file except in compliance with the License.\n",
    "You may obtain a copy of the License at\n",
    "\n",
    "    http://www.apache.org/licenses/LICENSE-2.0\n",
    "\n",
    "Unless required by applicable law or agreed to in writing, software\n",
    "distributed under the License is distributed on an \"AS IS\" BASIS,\n",
    "WITHOUT WARRANTIES OR CONDITIONS OF ANY KIND, either express or implied.\n",
    "See the License for the specific language governing permissions and\n",
    "limitations under the License.\n"
   ]
  },
  {
   "cell_type": "markdown",
   "metadata": {},
   "source": [
    "# linear_programming_example"
   ]
  },
  {
   "cell_type": "markdown",
   "metadata": {},
   "source": [
    "<table align=\"left\">\n",
    "<td>\n",
    "<a href=\"https://colab.research.google.com/github/google/or-tools/blob/master/examples/notebook/linear_solver/linear_programming_example.ipynb\"><img src=\"https://raw.githubusercontent.com/google/or-tools/master/tools/colab_32px.png\"/>Run in Google Colab</a>\n",
    "</td>\n",
    "<td>\n",
    "<a href=\"https://github.com/google/or-tools/blob/master/ortools/linear_solver/samples/linear_programming_example.py\"><img src=\"https://raw.githubusercontent.com/google/or-tools/master/tools/github_32px.png\"/>View source on GitHub</a>\n",
    "</td>\n",
    "</table>"
   ]
  },
  {
   "cell_type": "markdown",
   "metadata": {},
   "source": [
    "First, you must install [ortools](https://pypi.org/project/ortools/) package in this colab."
   ]
  },
  {
   "cell_type": "code",
   "execution_count": null,
   "metadata": {},
   "outputs": [],
   "source": [
    "!pip install ortools"
   ]
  },
  {
   "cell_type": "code",
   "execution_count": null,
   "metadata": {},
   "outputs": [],
   "source": [
    "#!/usr/bin/env python3\n",
    "# Copyright 2010-2021 Google LLC\n",
    "# Licensed under the Apache License, Version 2.0 (the \"License\");\n",
    "# you may not use this file except in compliance with the License.\n",
    "# You may obtain a copy of the License at\n",
    "#\n",
    "#     http://www.apache.org/licenses/LICENSE-2.0\n",
    "#\n",
    "# Unless required by applicable law or agreed to in writing, software\n",
    "# distributed under the License is distributed on an \"AS IS\" BASIS,\n",
    "# WITHOUT WARRANTIES OR CONDITIONS OF ANY KIND, either express or implied.\n",
    "# See the License for the specific language governing permissions and\n",
    "# limitations under the License.\n",
    "\"\"\"Linear optimization example.\"\"\"\n",
    "# [START program]\n",
    "# [START import]\n",
    "from ortools.linear_solver import pywraplp\n",
    "# [END import]\n",
    "\n",
    "\n",
    "def LinearProgrammingExample():\n",
    "    \"\"\"Linear programming sample.\"\"\"\n",
    "    # Instantiate a Glop solver, naming it LinearExample.\n",
    "    # [START solver]\n",
    "    solver = pywraplp.Solver.CreateSolver('GLOP')\n",
    "    # [END solver]\n",
    "\n",
    "    # Create the two variables and let them take on any non-negative value.\n",
    "    # [START variables]\n",
    "    x = solver.NumVar(0, solver.infinity(), 'x')\n",
    "    y = solver.NumVar(0, solver.infinity(), 'y')\n",
    "\n",
    "    print('Number of variables =', solver.NumVariables())\n",
    "    # [END variables]\n",
    "\n",
    "    # [START constraints]\n",
    "    # Constraint 0: x + 2y <= 14.\n",
    "    solver.Add(x + 2 * y <= 14.0)\n",
    "\n",
    "    # Constraint 1: 3x - y >= 0.\n",
    "    solver.Add(3 * x - y >= 0.0)\n",
    "\n",
    "    # Constraint 2: x - y <= 2.\n",
    "    solver.Add(x - y <= 2.0)\n",
    "\n",
    "    print('Number of constraints =', solver.NumConstraints())\n",
    "    # [END constraints]\n",
    "\n",
    "    # [START objective]\n",
    "    # Objective function: 3x + 4y.\n",
    "    solver.Maximize(3 * x + 4 * y)\n",
    "    # [END objective]\n",
    "\n",
    "    # Solve the system.\n",
    "    # [START solve]\n",
    "    status = solver.Solve()\n",
    "    # [END solve]\n",
    "\n",
    "    # [START print_solution]\n",
    "    if status == pywraplp.Solver.OPTIMAL:\n",
    "        print('Solution:')\n",
    "        print('Objective value =', solver.Objective().Value())\n",
    "        print('x =', x.solution_value())\n",
    "        print('y =', y.solution_value())\n",
    "    else:\n",
    "        print('The problem does not have an optimal solution.')\n",
    "    # [END print_solution]\n",
    "\n",
    "    # [START advanced]\n",
    "    print('\\nAdvanced usage:')\n",
    "    print('Problem solved in %f milliseconds' % solver.wall_time())\n",
    "    print('Problem solved in %d iterations' % solver.iterations())\n",
    "    # [END advanced]\n",
    "\n",
    "\n",
    "LinearProgrammingExample()\n",
    "# [END program]\n",
    "\n"
   ]
  }
 ],
 "metadata": {},
 "nbformat": 4,
 "nbformat_minor": 4
}
