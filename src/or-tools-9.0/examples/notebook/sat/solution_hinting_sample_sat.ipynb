{
 "cells": [
  {
   "cell_type": "markdown",
   "metadata": {},
   "source": [
    "##### Copyright 2021 Google LLC."
   ]
  },
  {
   "cell_type": "markdown",
   "metadata": {},
   "source": [
    "Licensed under the Apache License, Version 2.0 (the \"License\");\n",
    "you may not use this file except in compliance with the License.\n",
    "You may obtain a copy of the License at\n",
    "\n",
    "    http://www.apache.org/licenses/LICENSE-2.0\n",
    "\n",
    "Unless required by applicable law or agreed to in writing, software\n",
    "distributed under the License is distributed on an \"AS IS\" BASIS,\n",
    "WITHOUT WARRANTIES OR CONDITIONS OF ANY KIND, either express or implied.\n",
    "See the License for the specific language governing permissions and\n",
    "limitations under the License.\n"
   ]
  },
  {
   "cell_type": "markdown",
   "metadata": {},
   "source": [
    "# solution_hinting_sample_sat"
   ]
  },
  {
   "cell_type": "markdown",
   "metadata": {},
   "source": [
    "<table align=\"left\">\n",
    "<td>\n",
    "<a href=\"https://colab.research.google.com/github/google/or-tools/blob/master/examples/notebook/sat/solution_hinting_sample_sat.ipynb\"><img src=\"https://raw.githubusercontent.com/google/or-tools/master/tools/colab_32px.png\"/>Run in Google Colab</a>\n",
    "</td>\n",
    "<td>\n",
    "<a href=\"https://github.com/google/or-tools/blob/master/ortools/sat/samples/solution_hinting_sample_sat.py\"><img src=\"https://raw.githubusercontent.com/google/or-tools/master/tools/github_32px.png\"/>View source on GitHub</a>\n",
    "</td>\n",
    "</table>"
   ]
  },
  {
   "cell_type": "markdown",
   "metadata": {},
   "source": [
    "First, you must install [ortools](https://pypi.org/project/ortools/) package in this colab."
   ]
  },
  {
   "cell_type": "code",
   "execution_count": null,
   "metadata": {},
   "outputs": [],
   "source": [
    "!pip install ortools"
   ]
  },
  {
   "cell_type": "code",
   "execution_count": null,
   "metadata": {},
   "outputs": [],
   "source": [
    "#!/usr/bin/env python3\n",
    "# Copyright 2010-2021 Google LLC\n",
    "# Licensed under the Apache License, Version 2.0 (the \"License\");\n",
    "# you may not use this file except in compliance with the License.\n",
    "# You may obtain a copy of the License at\n",
    "#\n",
    "#     http://www.apache.org/licenses/LICENSE-2.0\n",
    "#\n",
    "# Unless required by applicable law or agreed to in writing, software\n",
    "# distributed under the License is distributed on an \"AS IS\" BASIS,\n",
    "# WITHOUT WARRANTIES OR CONDITIONS OF ANY KIND, either express or implied.\n",
    "# See the License for the specific language governing permissions and\n",
    "# limitations under the License.\n",
    "\"\"\"Code sample that solves a model using solution hinting.\"\"\"\n",
    "\n",
    "# [START program]\n",
    "from ortools.sat.python import cp_model\n",
    "\n",
    "\n",
    "def SolutionHintingSampleSat():\n",
    "    \"\"\"Showcases solution hinting.\"\"\"\n",
    "    # Creates the model.\n",
    "    # [START model]\n",
    "    model = cp_model.CpModel()\n",
    "    # [END model]\n",
    "\n",
    "    # Creates the variables.\n",
    "    # [START variables]\n",
    "    num_vals = 3\n",
    "    x = model.NewIntVar(0, num_vals - 1, 'x')\n",
    "    y = model.NewIntVar(0, num_vals - 1, 'y')\n",
    "    z = model.NewIntVar(0, num_vals - 1, 'z')\n",
    "    # [END variables]\n",
    "\n",
    "    # Creates the constraints.\n",
    "    # [START constraints]\n",
    "    model.Add(x != y)\n",
    "    # [END constraints]\n",
    "\n",
    "    # [START objective]\n",
    "    model.Maximize(x + 2 * y + 3 * z)\n",
    "    # [END objective]\n",
    "\n",
    "    # Solution hinting: x <- 1, y <- 2\n",
    "    model.AddHint(x, 1)\n",
    "    model.AddHint(y, 2)\n",
    "\n",
    "    # Creates a solver and solves.\n",
    "    # [START solve]\n",
    "    solver = cp_model.CpSolver()\n",
    "    solution_printer = cp_model.VarArrayAndObjectiveSolutionPrinter([x, y, z])\n",
    "    status = solver.SolveWithSolutionCallback(model, solution_printer)\n",
    "    # [END solve]\n",
    "\n",
    "    print('Status = %s' % solver.StatusName(status))\n",
    "    print('Number of solutions found: %i' % solution_printer.solution_count())\n",
    "\n",
    "\n",
    "SolutionHintingSampleSat()\n",
    "# [END program]\n",
    "\n"
   ]
  }
 ],
 "metadata": {},
 "nbformat": 4,
 "nbformat_minor": 4
}
