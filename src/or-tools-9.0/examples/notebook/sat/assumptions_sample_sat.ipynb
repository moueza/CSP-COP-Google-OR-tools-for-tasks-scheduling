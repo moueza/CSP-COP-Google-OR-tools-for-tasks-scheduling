{
 "cells": [
  {
   "cell_type": "markdown",
   "metadata": {},
   "source": [
    "##### Copyright 2021 Google LLC."
   ]
  },
  {
   "cell_type": "markdown",
   "metadata": {},
   "source": [
    "Licensed under the Apache License, Version 2.0 (the \"License\");\n",
    "you may not use this file except in compliance with the License.\n",
    "You may obtain a copy of the License at\n",
    "\n",
    "    http://www.apache.org/licenses/LICENSE-2.0\n",
    "\n",
    "Unless required by applicable law or agreed to in writing, software\n",
    "distributed under the License is distributed on an \"AS IS\" BASIS,\n",
    "WITHOUT WARRANTIES OR CONDITIONS OF ANY KIND, either express or implied.\n",
    "See the License for the specific language governing permissions and\n",
    "limitations under the License.\n"
   ]
  },
  {
   "cell_type": "markdown",
   "metadata": {},
   "source": [
    "# assumptions_sample_sat"
   ]
  },
  {
   "cell_type": "markdown",
   "metadata": {},
   "source": [
    "<table align=\"left\">\n",
    "<td>\n",
    "<a href=\"https://colab.research.google.com/github/google/or-tools/blob/master/examples/notebook/sat/assumptions_sample_sat.ipynb\"><img src=\"https://raw.githubusercontent.com/google/or-tools/master/tools/colab_32px.png\"/>Run in Google Colab</a>\n",
    "</td>\n",
    "<td>\n",
    "<a href=\"https://github.com/google/or-tools/blob/master/ortools/sat/samples/assumptions_sample_sat.py\"><img src=\"https://raw.githubusercontent.com/google/or-tools/master/tools/github_32px.png\"/>View source on GitHub</a>\n",
    "</td>\n",
    "</table>"
   ]
  },
  {
   "cell_type": "markdown",
   "metadata": {},
   "source": [
    "First, you must install [ortools](https://pypi.org/project/ortools/) package in this colab."
   ]
  },
  {
   "cell_type": "code",
   "execution_count": null,
   "metadata": {},
   "outputs": [],
   "source": [
    "!pip install ortools"
   ]
  },
  {
   "cell_type": "code",
   "execution_count": null,
   "metadata": {},
   "outputs": [],
   "source": [
    "#!/usr/bin/env python3\n",
    "# Copyright 2021 Xiang Chen\n",
    "# Licensed under the Apache License, Version 2.0 (the \"License\");\n",
    "# you may not use this file except in compliance with the License.\n",
    "# You may obtain a copy of the License at\n",
    "#\n",
    "#     http://www.apache.org/licenses/LICENSE-2.0\n",
    "#\n",
    "# Unless required by applicable law or agreed to in writing, software\n",
    "# distributed under the License is distributed on an \"AS IS\" BASIS,\n",
    "# WITHOUT WARRANTIES OR CONDITIONS OF ANY KIND, either express or implied.\n",
    "# See the License for the specific language governing permissions and\n",
    "# limitations under the License.\n",
    "\"\"\"Code sample that solves a model and gets the infeasibility assumptions.\"\"\"\n",
    "# [START program]\n",
    "# [START import]\n",
    "from ortools.sat.python import cp_model\n",
    "# [END import]\n",
    "\n",
    "\n",
    "\"\"\"Showcases assumptions.\"\"\"\n",
    "# Creates the model.\n",
    "# [START model]\n",
    "model = cp_model.CpModel()\n",
    "# [END model]\n",
    "\n",
    "# Creates the variables.\n",
    "# [START variables]\n",
    "x = model.NewIntVar(0, 10, 'x')\n",
    "y = model.NewIntVar(0, 10, 'y')\n",
    "z = model.NewIntVar(0, 10, 'z')\n",
    "a = model.NewBoolVar('a')\n",
    "b = model.NewBoolVar('b')\n",
    "c = model.NewBoolVar('c')\n",
    "# [END variables]\n",
    "\n",
    "# Creates the constraints.\n",
    "# [START constraints]\n",
    "model.Add(x > y).OnlyEnforceIf(a)\n",
    "model.Add(y > z).OnlyEnforceIf(b)\n",
    "model.Add(z > x).OnlyEnforceIf(c)\n",
    "# [END constraints]\n",
    "\n",
    "# Add assumptions\n",
    "model.AddAssumptions([a, b, c])\n",
    "\n",
    "# Creates a solver and solves.\n",
    "# [START solve]\n",
    "solver = cp_model.CpSolver()\n",
    "status = solver.Solve(model)\n",
    "# [END solve]\n",
    "\n",
    "# Print solution.\n",
    "# [START print_solution]\n",
    "print(f'Status = {solver.StatusName(status)}')\n",
    "if status == cp_model.INFEASIBLE:\n",
    "    print('SufficientAssumptionsForInfeasibility = '\n",
    "          f'{solver.SufficientAssumptionsForInfeasibility()}')\n",
    "# [END print_solution]\n",
    "\n"
   ]
  }
 ],
 "metadata": {},
 "nbformat": 4,
 "nbformat_minor": 4
}
