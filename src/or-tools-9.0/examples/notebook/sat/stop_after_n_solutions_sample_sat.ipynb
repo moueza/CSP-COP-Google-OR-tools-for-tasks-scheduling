{
 "cells": [
  {
   "cell_type": "markdown",
   "metadata": {},
   "source": [
    "##### Copyright 2021 Google LLC."
   ]
  },
  {
   "cell_type": "markdown",
   "metadata": {},
   "source": [
    "Licensed under the Apache License, Version 2.0 (the \"License\");\n",
    "you may not use this file except in compliance with the License.\n",
    "You may obtain a copy of the License at\n",
    "\n",
    "    http://www.apache.org/licenses/LICENSE-2.0\n",
    "\n",
    "Unless required by applicable law or agreed to in writing, software\n",
    "distributed under the License is distributed on an \"AS IS\" BASIS,\n",
    "WITHOUT WARRANTIES OR CONDITIONS OF ANY KIND, either express or implied.\n",
    "See the License for the specific language governing permissions and\n",
    "limitations under the License.\n"
   ]
  },
  {
   "cell_type": "markdown",
   "metadata": {},
   "source": [
    "# stop_after_n_solutions_sample_sat"
   ]
  },
  {
   "cell_type": "markdown",
   "metadata": {},
   "source": [
    "<table align=\"left\">\n",
    "<td>\n",
    "<a href=\"https://colab.research.google.com/github/google/or-tools/blob/master/examples/notebook/sat/stop_after_n_solutions_sample_sat.ipynb\"><img src=\"https://raw.githubusercontent.com/google/or-tools/master/tools/colab_32px.png\"/>Run in Google Colab</a>\n",
    "</td>\n",
    "<td>\n",
    "<a href=\"https://github.com/google/or-tools/blob/master/ortools/sat/samples/stop_after_n_solutions_sample_sat.py\"><img src=\"https://raw.githubusercontent.com/google/or-tools/master/tools/github_32px.png\"/>View source on GitHub</a>\n",
    "</td>\n",
    "</table>"
   ]
  },
  {
   "cell_type": "markdown",
   "metadata": {},
   "source": [
    "First, you must install [ortools](https://pypi.org/project/ortools/) package in this colab."
   ]
  },
  {
   "cell_type": "code",
   "execution_count": null,
   "metadata": {},
   "outputs": [],
   "source": [
    "!pip install ortools"
   ]
  },
  {
   "cell_type": "code",
   "execution_count": null,
   "metadata": {},
   "outputs": [],
   "source": [
    "#!/usr/bin/env python3\n",
    "# Copyright 2010-2021 Google LLC\n",
    "# Licensed under the Apache License, Version 2.0 (the \"License\");\n",
    "# you may not use this file except in compliance with the License.\n",
    "# You may obtain a copy of the License at\n",
    "#\n",
    "#     http://www.apache.org/licenses/LICENSE-2.0\n",
    "#\n",
    "# Unless required by applicable law or agreed to in writing, software\n",
    "# distributed under the License is distributed on an \"AS IS\" BASIS,\n",
    "# WITHOUT WARRANTIES OR CONDITIONS OF ANY KIND, either express or implied.\n",
    "# See the License for the specific language governing permissions and\n",
    "# limitations under the License.\n",
    "\"\"\"Code sample that solves a model and displays a small number of solutions.\"\"\"\n",
    "\n",
    "from ortools.sat.python import cp_model\n",
    "\n",
    "\n",
    "class VarArraySolutionPrinterWithLimit(cp_model.CpSolverSolutionCallback):\n",
    "    \"\"\"Print intermediate solutions.\"\"\"\n",
    "\n",
    "    def __init__(self, variables, limit):\n",
    "        cp_model.CpSolverSolutionCallback.__init__(self)\n",
    "        self.__variables = variables\n",
    "        self.__solution_count = 0\n",
    "        self.__solution_limit = limit\n",
    "\n",
    "    def on_solution_callback(self):\n",
    "        self.__solution_count += 1\n",
    "        for v in self.__variables:\n",
    "            print('%s=%i' % (v, self.Value(v)), end=' ')\n",
    "        print()\n",
    "        if self.__solution_count >= self.__solution_limit:\n",
    "            print('Stop search after %i solutions' % self.__solution_limit)\n",
    "            self.StopSearch()\n",
    "\n",
    "    def solution_count(self):\n",
    "        return self.__solution_count\n",
    "\n",
    "\n",
    "def StopAfterNSolutionsSampleSat():\n",
    "    \"\"\"Showcases calling the solver to search for small number of solutions.\"\"\"\n",
    "    # Creates the model.\n",
    "    model = cp_model.CpModel()\n",
    "    # Creates the variables.\n",
    "    num_vals = 3\n",
    "    x = model.NewIntVar(0, num_vals - 1, 'x')\n",
    "    y = model.NewIntVar(0, num_vals - 1, 'y')\n",
    "    z = model.NewIntVar(0, num_vals - 1, 'z')\n",
    "\n",
    "    # Create a solver and solve.\n",
    "    solver = cp_model.CpSolver()\n",
    "    solution_printer = VarArraySolutionPrinterWithLimit([x, y, z], 5)\n",
    "    status = solver.SearchForAllSolutions(model, solution_printer)\n",
    "    print('Status = %s' % solver.StatusName(status))\n",
    "    print('Number of solutions found: %i' % solution_printer.solution_count())\n",
    "    assert solution_printer.solution_count() == 5\n",
    "\n",
    "\n",
    "StopAfterNSolutionsSampleSat()\n",
    "\n"
   ]
  }
 ],
 "metadata": {},
 "nbformat": 4,
 "nbformat_minor": 4
}
